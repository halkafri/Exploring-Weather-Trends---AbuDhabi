{
 "cells": [
  {
   "cell_type": "markdown",
   "metadata": {},
   "source": [
    "# Exploring Weather Trends Project"
   ]
  },
  {
   "cell_type": "markdown",
   "metadata": {},
   "source": [
    "### <font color=blue> In this project, the temperature trends in Abu Dhabi city (AD) are compared to the overall global temperature trends. For this purpose, the average temperatures of both AD and the world will be used. In addition, their calculated moving averages will be used to smooth out the corresponding line charts."
   ]
  },
  {
   "cell_type": "markdown",
   "metadata": {},
   "source": [
    "## Extracting the Data (SQL)\n",
    "\n",
    "``` mysql\n",
    "\n",
    "        SELECT d.year, d.avg_temp AS AD_avg_temp, g.avg_temp AS global_avg_temp\n",
    "        FROM city_data d\n",
    "        JOIN global_data g ON g.year = d.year\n",
    "        where d.city = 'Abu Dhabi' AND d.year >= 1861 * ```  \n",
    "\n",
    "        \n",
    "#### *  <font color=blue> The condition on the year is imposed to remove the set of the first 18  years which contain Null values</font>\n"
   ]
  },
  {
   "cell_type": "markdown",
   "metadata": {},
   "source": [
    "## Moving Averages calculations\n",
    "\n",
    "### <font color=blue> The graph of the average temperatures is volatile and a general trend is not observable. After several trials, a 20 years moving average seems to better show the general trend."
   ]
  },
  {
   "cell_type": "code",
   "execution_count": 1,
   "metadata": {
    "scrolled": true
   },
   "outputs": [
    {
     "data": {
      "text/html": [
       "<div>\n",
       "<style scoped>\n",
       "    .dataframe tbody tr th:only-of-type {\n",
       "        vertical-align: middle;\n",
       "    }\n",
       "\n",
       "    .dataframe tbody tr th {\n",
       "        vertical-align: top;\n",
       "    }\n",
       "\n",
       "    .dataframe thead th {\n",
       "        text-align: right;\n",
       "    }\n",
       "</style>\n",
       "<table border=\"1\" class=\"dataframe\">\n",
       "  <thead>\n",
       "    <tr style=\"text-align: right;\">\n",
       "      <th></th>\n",
       "      <th>year</th>\n",
       "      <th>ad_avg_temp</th>\n",
       "      <th>global_avg_temp</th>\n",
       "    </tr>\n",
       "  </thead>\n",
       "  <tbody>\n",
       "    <tr>\n",
       "      <th>0</th>\n",
       "      <td>1861</td>\n",
       "      <td>25.10</td>\n",
       "      <td>7.85</td>\n",
       "    </tr>\n",
       "    <tr>\n",
       "      <th>1</th>\n",
       "      <td>1862</td>\n",
       "      <td>25.34</td>\n",
       "      <td>7.56</td>\n",
       "    </tr>\n",
       "    <tr>\n",
       "      <th>2</th>\n",
       "      <td>1863</td>\n",
       "      <td>23.62</td>\n",
       "      <td>8.11</td>\n",
       "    </tr>\n",
       "    <tr>\n",
       "      <th>3</th>\n",
       "      <td>1864</td>\n",
       "      <td>26.00</td>\n",
       "      <td>7.98</td>\n",
       "    </tr>\n",
       "    <tr>\n",
       "      <th>4</th>\n",
       "      <td>1865</td>\n",
       "      <td>26.26</td>\n",
       "      <td>8.18</td>\n",
       "    </tr>\n",
       "  </tbody>\n",
       "</table>\n",
       "</div>"
      ],
      "text/plain": [
       "   year  ad_avg_temp  global_avg_temp\n",
       "0  1861        25.10             7.85\n",
       "1  1862        25.34             7.56\n",
       "2  1863        23.62             8.11\n",
       "3  1864        26.00             7.98\n",
       "4  1865        26.26             8.18"
      ]
     },
     "execution_count": 1,
     "metadata": {},
     "output_type": "execute_result"
    }
   ],
   "source": [
    "# Confirm current directory\n",
    "import os\n",
    "os.chdir(r\"/Users/z10392/Documents/Self development/udacity/DA projects/Project 1\")\n",
    "\n",
    "# use pandas to read the excel file\n",
    "import pandas as pd\n",
    "data=pd.read_excel('ADvsGlobSQL.xlsx')\n",
    "data.head()"
   ]
  },
  {
   "cell_type": "code",
   "execution_count": 2,
   "metadata": {
    "scrolled": true
   },
   "outputs": [
    {
     "data": {
      "text/html": [
       "<div>\n",
       "<style scoped>\n",
       "    .dataframe tbody tr th:only-of-type {\n",
       "        vertical-align: middle;\n",
       "    }\n",
       "\n",
       "    .dataframe tbody tr th {\n",
       "        vertical-align: top;\n",
       "    }\n",
       "\n",
       "    .dataframe thead th {\n",
       "        text-align: right;\n",
       "    }\n",
       "</style>\n",
       "<table border=\"1\" class=\"dataframe\">\n",
       "  <thead>\n",
       "    <tr style=\"text-align: right;\">\n",
       "      <th></th>\n",
       "      <th>year</th>\n",
       "      <th>ad_avg_temp</th>\n",
       "      <th>global_avg_temp</th>\n",
       "      <th>AD_20_years_MA</th>\n",
       "      <th>Global_20_years_MA</th>\n",
       "    </tr>\n",
       "  </thead>\n",
       "  <tbody>\n",
       "    <tr>\n",
       "      <th>0</th>\n",
       "      <td>1861</td>\n",
       "      <td>25.10</td>\n",
       "      <td>7.85</td>\n",
       "      <td>0.0</td>\n",
       "      <td>0.0</td>\n",
       "    </tr>\n",
       "    <tr>\n",
       "      <th>1</th>\n",
       "      <td>1862</td>\n",
       "      <td>25.34</td>\n",
       "      <td>7.56</td>\n",
       "      <td>0.0</td>\n",
       "      <td>0.0</td>\n",
       "    </tr>\n",
       "    <tr>\n",
       "      <th>2</th>\n",
       "      <td>1863</td>\n",
       "      <td>23.62</td>\n",
       "      <td>8.11</td>\n",
       "      <td>0.0</td>\n",
       "      <td>0.0</td>\n",
       "    </tr>\n",
       "    <tr>\n",
       "      <th>3</th>\n",
       "      <td>1864</td>\n",
       "      <td>26.00</td>\n",
       "      <td>7.98</td>\n",
       "      <td>0.0</td>\n",
       "      <td>0.0</td>\n",
       "    </tr>\n",
       "    <tr>\n",
       "      <th>4</th>\n",
       "      <td>1865</td>\n",
       "      <td>26.26</td>\n",
       "      <td>8.18</td>\n",
       "      <td>0.0</td>\n",
       "      <td>0.0</td>\n",
       "    </tr>\n",
       "  </tbody>\n",
       "</table>\n",
       "</div>"
      ],
      "text/plain": [
       "   year  ad_avg_temp  global_avg_temp  AD_20_years_MA  Global_20_years_MA\n",
       "0  1861        25.10             7.85             0.0                 0.0\n",
       "1  1862        25.34             7.56             0.0                 0.0\n",
       "2  1863        23.62             8.11             0.0                 0.0\n",
       "3  1864        26.00             7.98             0.0                 0.0\n",
       "4  1865        26.26             8.18             0.0                 0.0"
      ]
     },
     "execution_count": 2,
     "metadata": {},
     "output_type": "execute_result"
    }
   ],
   "source": [
    "# Calculate Moving averages and appending them to the table \n",
    "\n",
    "N = 20 #  20 years \n",
    "\n",
    "CumSum = [0]\n",
    "AD_M_avgs =[]\n",
    "for i, value in enumerate(data['ad_avg_temp'], 1): #to loop over the column\n",
    "    CumSum.append(CumSum[i-1] + value)\n",
    "    if i>=N:\n",
    "        M_avg = (CumSum[i] - CumSum[i-N])/N  \n",
    "        AD_M_avgs.append(M_avg)\n",
    "        \n",
    "# Append the calculated averages to the table \n",
    "se = pd.Series([0,0,0,0,0,0,0,0,0,0,0,0,0,0,0,0,0,0,0]+AD_M_avgs)\n",
    "data['AD_20_years_MA'] = se\n",
    "\n",
    "\n",
    "#Calculate 20-years moving Averages for the World\n",
    "CumSum = [0]\n",
    "Global_M_avgs = []\n",
    "for i, value in enumerate(data['global_avg_temp'], 1):\n",
    "    CumSum.append(CumSum[i-1] + value)\n",
    "    if i>=N:\n",
    "        M_avg = (CumSum[i] - CumSum[i-N])/N\n",
    "        Global_M_avgs.append(M_avg)\n",
    "        \n",
    "# Append the calculated averages to the table \n",
    "se = pd.Series([0,0,0,0,0,0,0,0,0,0,0,0,0,0,0,0,0,0,0]+Global_M_avgs)\n",
    "data['Global_20_years_MA'] = se\n",
    "\n",
    "data.head()"
   ]
  },
  {
   "cell_type": "markdown",
   "metadata": {},
   "source": [
    "## <font color=coral> __Question#1__</font> Is Abudhabi hotter or cooler on average compared to the global average? Has the difference been consistent over time?"
   ]
  },
  {
   "cell_type": "code",
   "execution_count": 3,
   "metadata": {
    "scrolled": false
   },
   "outputs": [
    {
     "data": {
      "text/plain": [
       "(array([1861, 1863, 1865, 1867, 1869, 1871, 1873, 1875, 1877, 1879, 1881,\n",
       "        1883, 1885, 1887, 1889, 1891, 1893, 1895, 1897, 1899, 1901, 1903,\n",
       "        1905, 1907, 1909, 1911, 1913, 1915, 1917, 1919, 1921, 1923, 1925,\n",
       "        1927, 1929, 1931, 1933, 1935, 1937, 1939, 1941, 1943, 1945, 1947,\n",
       "        1949, 1951, 1953, 1955, 1957, 1959, 1961, 1963, 1965, 1967, 1969,\n",
       "        1971, 1973, 1975, 1977, 1979, 1981, 1983, 1985, 1987, 1989, 1991,\n",
       "        1993, 1995, 1997, 1999, 2001, 2003, 2005, 2007, 2009, 2011]),\n",
       " <a list of 76 Text xticklabel objects>)"
      ]
     },
     "execution_count": 3,
     "metadata": {},
     "output_type": "execute_result"
    }
   ],
   "source": [
    "import seaborn as sns; sns.set()\n",
    "import matplotlib.pyplot as plt\n",
    "import numpy as np\n",
    "\n",
    "plt.figure(figsize=(20,5))\n",
    "\n",
    "X = data[\"year\"][N:]\n",
    "Y=data[\"AD_20_years_MA\"][N:].values\n",
    "Z=data[\"Global_20_years_MA\"][N:].values\n",
    "\n",
    "a = np.array(Y)\n",
    "b = np.array(Z)\n",
    "list_data =np.column_stack((a, b))\n",
    "\n",
    "wide_df = pd.DataFrame(list_data, X, [\"AD\", \"Global\"])\n",
    "ax = sns.lineplot(data=wide_df)\n",
    "ax.set(xlabel='Year', ylabel='20-years Moving Average temperature ($C^O$)', title = 'AD\\'s vs Global\\'s 20 years Moving Average (MA)', xticks=np.arange(1861, 2013, 2))\n",
    "plt.xticks(rotation=90)"
   ]
  },
  {
   "cell_type": "markdown",
   "metadata": {},
   "source": [
    "### <font color=coral> (observation#1)</font> <font color=blue>It is observed that Abu Dhabi is hotter on average than the world as its line graph lies above $25C^O$ while the world's line is below $10C^O$.</font>\n",
    "\n",
    "### <font color=coral> (observation#2)</font> <font color=blue>The difference seems to be consistent as the two lines don’t overlap and they almost look parallel. Also the differences between AD and Global's avg. temperatures range from 17.16 to 18.99, as calculated below, which implies that the differences do not vary significantly  </font>"
   ]
  },
  {
   "cell_type": "code",
   "execution_count": 4,
   "metadata": {},
   "outputs": [
    {
     "name": "stdout",
     "output_type": "stream",
     "text": [
      "Differences = [18.48 17.92 18.32 18.38 18.18 18.43 18.17 18.21 18.29 18.23 18.41 18.48\n",
      " 18.3  18.08 17.83 18.15 18.   17.74 18.17 17.93 17.99 18.51 17.66 18.4\n",
      " 18.07 17.86 18.22 18.15 18.39 17.67 17.44 18.18 18.15 17.97 18.31 17.67\n",
      " 18.02 17.9  17.86 17.84 17.49 18.36 17.9  18.52 17.73 17.92 17.83 17.71\n",
      " 18.36 17.75 17.82 17.52 17.72 17.54 17.92 17.69 17.52 17.43 17.37 17.73\n",
      " 18.11 18.14 17.66 18.04 17.87 17.92 18.05 17.94 17.7  17.6  18.06 18.04\n",
      " 18.02 18.33 17.99 18.28 17.53 18.12 17.7  18.08 17.77 18.   17.75 17.48\n",
      " 18.1  18.16 17.77 17.68 18.49 18.54 17.87 17.66 17.59 17.99 17.75 18.08\n",
      " 18.58 18.2  18.23 18.18 17.76 17.52 17.16 17.6  17.97 17.87 17.92 17.75\n",
      " 17.46 17.88 17.28 17.26 18.15 18.21 17.4  18.16 17.67 18.67 18.87 18.47\n",
      " 18.41 18.43 18.59 18.75 18.2  18.41 18.35 18.16 18.53 18.99 18.73 18.95\n",
      " 18.4 ]\n",
      "Range =1.8299999999999983\n",
      "(17.160000000000004, 18.990000000000002)\n"
     ]
    }
   ],
   "source": [
    "a = np.array(data[\"ad_avg_temp\"][N:].values)\n",
    "b = np.array(data[\"global_avg_temp\"][N:].values)\n",
    "Differences=a-b\n",
    "\n",
    "print('Differences = ' +str(Differences) )\n",
    "\n",
    "print('Range =' + str(np.amax(Differences)-np.amin(Differences)))\n",
    "print(np.amin(Differences),np.amax(Differences))"
   ]
  },
  {
   "cell_type": "markdown",
   "metadata": {},
   "source": [
    "## <font color=coral> __Question#2__</font> How do the changes in AD's temperatures over time compare to the changes in the global average?"
   ]
  },
  {
   "cell_type": "code",
   "execution_count": 5,
   "metadata": {},
   "outputs": [
    {
     "data": {
      "image/png": "[encoded data removed]",
      "text/plain": [
       "<Figure size 1440x360 with 2 Axes>"
      ]
     },
     "metadata": {},
     "output_type": "display_data"
    }
   ],
   "source": [
    "\n",
    "plt.figure(figsize=(20,5))\n",
    "plt.subplot(2, 1, 1)\n",
    "\n",
    "X = data[\"year\"][N:]\n",
    "Y = data[\"AD_20_years_MA\"][N:]\n",
    "\n",
    "ax = sns.lineplot(x=X, y=Y,color=\"blue\")\n",
    "ax.set(xlabel='Year', ylabel='20 years MA', title = 'AD 20 years MA', xticks=np.arange(1865, 2013, 2))\n",
    "\n",
    "plt.xticks(rotation=90)\n",
    "\n",
    "plt.subplot(2, 1, 2)\n",
    "\n",
    "Y = data[\"Global_20_years_MA\"][N:]\n",
    "ax = sns.lineplot(x=X, y=Y,color=\"coral\")\n",
    "ax.set(xlabel='Year', ylabel='20-years Moving Average temperature ($C^O$)', title = 'Global 20 years MA', xticks=np.arange(1865, 2013, 2))\n",
    "plt.xticks(rotation=90)\n",
    "\n",
    "\n",
    "\n",
    "plt.subplots_adjust(hspace=0.7)\n",
    "plt.show()\n"
   ]
  },
  {
   "cell_type": "markdown",
   "metadata": {},
   "source": [
    "### <font color=coral> (observation#3)</font> <font color=blue> It looks like the rise in the temperature is a global trend rather than a particular phenomenon occurring in AD. However, the changes in AD's temperatures are more consistent over time in comparison with the changes in the global average. This is observed in the above graphs, especially in the interval 1915-1989 where we can see more vertically streached ups and downs in the Global's graph. </font>"
   ]
  },
  {
   "cell_type": "markdown",
   "metadata": {},
   "source": [
    "## <font color=coral> __Question#3__</font> What does the overall trend look like? Is the world getting hotter or cooler? Has the trend been consistent over the last few hundred years?!"
   ]
  },
  {
   "cell_type": "markdown",
   "metadata": {},
   "source": [
    "### <font color=coral> (observation#4)</font> <font color=blue> The world is getting hotter. The line exhibits an upward trend in general despite the insignificant decreases here and there. </font>\n"
   ]
  },
  {
   "cell_type": "markdown",
   "metadata": {},
   "source": [
    "## <font color=coral> __Question#4__</font> Is there a correlation between AD's average temperatures and the global's? \n",
    "\n",
    "### <font color=coral> (observation#5)</font> <font color=blue> The correlation coefficient calculation below shows a strong positive correlation of 0.796 </font>"
   ]
  },
  {
   "cell_type": "code",
   "execution_count": 6,
   "metadata": {},
   "outputs": [
    {
     "name": "stdout",
     "output_type": "stream",
     "text": [
      "('correlation coeffecient:', 0.7961832086623665)\n"
     ]
    }
   ],
   "source": [
    "from sklearn import linear_model\n",
    "import math\n",
    "\n",
    "X=data[['global_avg_temp']].values\n",
    "Y=data[['ad_avg_temp']].values\n",
    "\n",
    "lm = linear_model.LinearRegression()\n",
    "lm.fit(X,Y)\n",
    "\n",
    "print('correlation coeffecient:',math.sqrt(lm.score(X,Y)))"
   ]
  },
  {
   "cell_type": "markdown",
   "metadata": {},
   "source": [
    "## <font color=coral> __Question#5__</font> Could the average temperature in AD be estimated based on the average global temperature? "
   ]
  },
  {
   "cell_type": "code",
   "execution_count": 7,
   "metadata": {
    "scrolled": false
   },
   "outputs": [
    {
     "name": "stdout",
     "output_type": "stream",
     "text": [
      "Reg_line_Equation = Y = 1.1558775904490928X + 16.657483644069174\n"
     ]
    },
    {
     "data": {
      "text/plain": [
       "<matplotlib.axes._subplots.AxesSubplot at 0x1a14196a90>"
      ]
     },
     "execution_count": 7,
     "metadata": {},
     "output_type": "execute_result"
    },
    {
     "data": {
      "image/png": "[encoded data removed]",
      "text/plain": [
       "<Figure size 720x1440 with 1 Axes>"
      ]
     },
     "metadata": {},
     "output_type": "display_data"
    }
   ],
   "source": [
    "#Regression line plot \n",
    "print('Reg_line_Equation = ' + 'Y = '+ str(lm.coef_[0][0]) + 'X + ' + str(lm.intercept_[0]))\n",
    "import seaborn as sns\n",
    "plt.figure(figsize=(10,20))\n",
    "sns.regplot(x=data['global_avg_temp'], y=data['ad_avg_temp'])\n"
   ]
  },
  {
   "cell_type": "code",
   "execution_count": 8,
   "metadata": {},
   "outputs": [
    {
     "data": {
      "image/png": "[encoded data removed]",
      "text/plain": [
       "<Figure size 432x288 with 1 Axes>"
      ]
     },
     "metadata": {},
     "output_type": "display_data"
    }
   ],
   "source": [
    "#Predictions vs actual values plot \n",
    "p=lm.predict(X)\n",
    "plt.title('Scatter between predicted values and actual values in training set')\n",
    "plt.scatter(Y,p,s=5)\n",
    "plt.xlabel('actual value')\n",
    "plt.ylabel('predicted value')\n",
    "plt.rcParams[\"figure.figsize\"] = [10,20]\n",
    "plt.show()"
   ]
  },
  {
   "cell_type": "code",
   "execution_count": 9,
   "metadata": {
    "scrolled": true
   },
   "outputs": [
    {
     "data": {
      "text/plain": [
       "array([[6.31122729e-01],\n",
       "       [5.59182279e-02],\n",
       "       [2.41165090e+00],\n",
       "       [1.18613184e-01],\n",
       "       [1.47437666e-01],\n",
       "       [1.49708869e-01],\n",
       "       [2.69094925e-02],\n",
       "       [1.36526235e-01],\n",
       "       [1.08468268e-01],\n",
       "       [1.04320114e-01],\n",
       "       [1.26790321e-01],\n",
       "       [3.58788902e-02],\n",
       "       [1.10938476e-01],\n",
       "       [1.01531732e-01],\n",
       "       [3.87318495e-01],\n",
       "       [1.93025425e-01],\n",
       "       [6.13217335e-02],\n",
       "       [2.73882768e-01],\n",
       "       [1.10035580e-02],\n",
       "       [1.56790321e-01],\n",
       "       [5.33408683e-01],\n",
       "       [4.76845442e-03],\n",
       "       [4.18613184e-01],\n",
       "       [5.11347478e-01],\n",
       "       [2.87965840e-01],\n",
       "       [5.33289512e-01],\n",
       "       [2.79524615e-01],\n",
       "       [2.91466649e-01],\n",
       "       [3.35614803e-01],\n",
       "       [3.30171960e-01],\n",
       "       [5.02378081e-01],\n",
       "       [5.64584201e-01],\n",
       "       [3.86142977e-01],\n",
       "       [1.50555218e-01],\n",
       "       [9.78860062e-02],\n",
       "       [2.12761338e-01],\n",
       "       [5.02911311e-02],\n",
       "       [1.92562334e-01],\n",
       "       [2.03144596e-01],\n",
       "       [5.24431629e-02],\n",
       "       [1.32173350e-03],\n",
       "       [5.58732355e-01],\n",
       "       [2.78797438e-01],\n",
       "       [4.81466649e-01],\n",
       "       [1.29643787e-01],\n",
       "       [1.03737852e-01],\n",
       "       [3.23289512e-01],\n",
       "       [2.15878890e-01],\n",
       "       [4.57437666e-01],\n",
       "       [2.68797438e-01],\n",
       "       [4.92562334e-01],\n",
       "       [2.48996442e-01],\n",
       "       [1.98732355e-01],\n",
       "       [2.64721460e-02],\n",
       "       [3.13527854e-01],\n",
       "       [2.70356213e-01],\n",
       "       [1.12378081e-01],\n",
       "       [2.47684544e-02],\n",
       "       [1.03737852e-01],\n",
       "       [1.20620300e-01],\n",
       "       [5.03354594e-01],\n",
       "       [3.91585820e-01],\n",
       "       [6.99729557e-02],\n",
       "       [5.35998061e-01],\n",
       "       [2.57119491e-01],\n",
       "       [9.82950087e-02],\n",
       "       [1.55560715e-01],\n",
       "       [2.92707250e-01],\n",
       "       [4.18085011e-01],\n",
       "       [2.52707250e-01],\n",
       "       [1.96736233e-01],\n",
       "       [4.95177457e-01],\n",
       "       [2.37502748e-01],\n",
       "       [4.62707250e-01],\n",
       "       [6.55607147e-02],\n",
       "       [3.00237042e-01],\n",
       "       [4.93618681e-01],\n",
       "       [6.08559095e-01],\n",
       "       [6.52971336e-01],\n",
       "       [2.92971336e-01],\n",
       "       [8.54698877e-02],\n",
       "       [1.21704991e-01],\n",
       "       [3.62971336e-01],\n",
       "       [2.99968046e-03],\n",
       "       [1.24913370e-01],\n",
       "       [9.05011292e-02],\n",
       "       [2.07935600e-02],\n",
       "       [8.14125605e-02],\n",
       "       [2.96472146e-01],\n",
       "       [3.62179076e-01],\n",
       "       [5.72927504e-02],\n",
       "       [3.57339745e-02],\n",
       "       [2.01178714e-02],\n",
       "       [3.38204182e-01],\n",
       "       [1.27072496e-02],\n",
       "       [3.31849907e-01],\n",
       "       [4.88295009e-01],\n",
       "       [9.54698877e-02],\n",
       "       [3.18295009e-01],\n",
       "       [8.50866299e-02],\n",
       "       [2.59206440e-01],\n",
       "       [2.14125605e-02],\n",
       "       [2.88559095e-01],\n",
       "       [4.88414180e-01],\n",
       "       [1.12880509e-01],\n",
       "       [1.61969078e-01],\n",
       "       [2.43618681e-01],\n",
       "       [3.05560715e-01],\n",
       "       [4.91969078e-01],\n",
       "       [5.26381319e-01],\n",
       "       [1.28030922e-01],\n",
       "       [3.22443163e-01],\n",
       "       [4.62588079e-01],\n",
       "       [1.22331648e-02],\n",
       "       [2.69853785e-01],\n",
       "       [1.20938476e-01],\n",
       "       [5.42999680e-01],\n",
       "       [1.87940095e-01],\n",
       "       [2.11704991e-01],\n",
       "       [1.22735594e-01],\n",
       "       [3.26881148e-01],\n",
       "       [4.84266026e-01],\n",
       "       [9.05058286e-01],\n",
       "       [4.12059905e-01],\n",
       "       [3.73835774e-02],\n",
       "       [1.63882768e-01],\n",
       "       [1.38823182e-01],\n",
       "       [3.41557476e-01],\n",
       "       [5.87911751e-01],\n",
       "       [2.16233804e-01],\n",
       "       [8.08439924e-01],\n",
       "       [7.75441544e-01],\n",
       "       [1.09882129e-01],\n",
       "       [1.43382938e-01],\n",
       "       [7.14939115e-01],\n",
       "       [9.33829383e-02],\n",
       "       [4.21557476e-01],\n",
       "       [5.28561695e-01],\n",
       "       [7.64413541e-01],\n",
       "       [3.78442524e-01],\n",
       "       [2.85708230e-01],\n",
       "       [2.80767815e-01],\n",
       "       [4.47002919e-01],\n",
       "       [6.39737213e-01],\n",
       "       [3.05037286e-02],\n",
       "       [2.67002919e-01],\n",
       "       [1.75827401e-01],\n",
       "       [3.25906780e-02],\n",
       "       [3.90120471e-01],\n",
       "       [8.20503729e-01],\n",
       "       [5.88561695e-01],\n",
       "       [8.10120471e-01],\n",
       "       [2.44532712e-01]])"
      ]
     },
     "execution_count": 9,
     "metadata": {},
     "output_type": "execute_result"
    }
   ],
   "source": [
    "#Exact errors\n",
    "Exact_errors=abs(p-Y)\n",
    "Exact_errors"
   ]
  },
  {
   "cell_type": "code",
   "execution_count": 10,
   "metadata": {},
   "outputs": [
    {
     "name": "stdout",
     "output_type": "stream",
     "text": [
      "('Year=2014', 'Estimated =27.719232184666993', 'Actual =28.2')\n",
      "('Year=2015', 'Estimated =28.019760358183756', 'Actual =29.2')\n"
     ]
    }
   ],
   "source": [
    "# Estimations more recent years \n",
    "\n",
    "Actual_AD_2014=28.2\n",
    "Actual_AD_2015=29.2 \n",
    "#Source for actual values: https://www.statista.com/statistics/632988/uae-abu-dhabi-average-annual-temperature/\n",
    "\n",
    "# Given world's avg temp 9.57 and 9.83 in 2014 and 2015, repesctively.(From the project database)\n",
    "estimate_AD_2014=lm.predict(9.57)\n",
    "estimate_AD_2015=lm.predict(9.83) \n",
    "\n",
    "\n",
    "print('Year=2014','Estimated =' + str(estimate_AD_2014[0][0]), 'Actual =' + str(Actual_AD_2014))\n",
    "print('Year=2015','Estimated =' + str(estimate_AD_2015[0][0]), 'Actual =' + str(Actual_AD_2015))"
   ]
  },
  {
   "cell_type": "markdown",
   "metadata": {},
   "source": [
    "### <font color=coral> (observation#6)</font> <font color=blue> The linear regression model could be used to estimate the average temperature in future in AD based on the average global temperature with an acceptable difference </font>"
   ]
  }
 ],
 "metadata": {
  "kernelspec": {
   "display_name": "Python 2",
   "language": "python",
   "name": "python2"
  },
  "language_info": {
   "codemirror_mode": {
    "name": "ipython",
    "version": 2
   },
   "file_extension": ".py",
   "mimetype": "text/x-python",
   "name": "python",
   "nbconvert_exporter": "python",
   "pygments_lexer": "ipython2",
   "version": "2.7.15"
  }
 },
 "nbformat": 4,
 "nbformat_minor": 2
}
